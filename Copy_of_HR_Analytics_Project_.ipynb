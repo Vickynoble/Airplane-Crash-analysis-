{
  "nbformat": 4,
  "nbformat_minor": 0,
  "metadata": {
    "colab": {
      "provenance": [],
      "include_colab_link": true
    },
    "kernelspec": {
      "name": "python3",
      "display_name": "Python 3"
    },
    "language_info": {
      "name": "python"
    }
  },
  "cells": [
    {
      "cell_type": "markdown",
      "metadata": {
        "id": "view-in-github",
        "colab_type": "text"
      },
      "source": [
        "<a href=\"https://colab.research.google.com/github/Vickynoble/Airplane-Crash-analysis-/blob/master/Copy_of_HR_Analytics_Project_.ipynb\" target=\"_parent\"><img src=\"https://colab.research.google.com/assets/colab-badge.svg\" alt=\"Open In Colab\"/></a>"
      ]
    },
    {
      "cell_type": "code",
      "execution_count": null,
      "metadata": {
        "id": "CGeE8oZavNmk"
      },
      "outputs": [],
      "source": [
        "# -- 1. Which three departments had the highest satisfaction scores, and which three had the lowest satisfaction scores?\n",
        "SELECT\n",
        "\tdept,\n",
        "round(avg(satisfaction_level),2) as avg_satisfaction\n",
        "FROM hr_happiness.`employee attrition`\n",
        "Group by 1\n",
        "Order by 2 desc;"
      ]
    },
    {
      "cell_type": "code",
      "source": [
        "#-- 2. What is the relationship between salary and satisfaction score?\n",
        "Select\n",
        "\tdistinct salary\n",
        "FROM hr_happiness.`employee attrition`;\n",
        "\n",
        "# -- 'low'\n",
        "# -- 'medium'\n",
        "# -- 'high'\n",
        "\n",
        "Select\n",
        "\tsalary,\n",
        "    round(avg(satisfaction_level),2) as avg_satisfaction\n",
        "FROM hr_happiness.`employee attrition`\n",
        "group by 1\n",
        "order by 2;\n"
      ],
      "metadata": {
        "id": "ph2iaJE_C6ci"
      },
      "execution_count": null,
      "outputs": []
    },
    {
      "cell_type": "code",
      "source": [
        "# -- 3. How did the top two and bottom two depts perform in the following arears\n",
        "# -- 'support'\n",
        "# -- 'management' top_dept\n",
        "\n",
        "# -- 'hr'\n",
        "# -- 'accounting' lower_dept\n",
        "# -- a. last_evaluation\n",
        "\n",
        "# -- b. number_project\n",
        "\n",
        "# -- c. average_montly_hours\n",
        "\n",
        "# -- d. time_spend_company\n",
        "Select\n",
        "    Case\n",
        "     when dept in ('support', 'management') then 'top_dept'\n",
        "     when dept in ('hr', 'accounting') then 'lower_dept'\n",
        "\tend as top_bot,\n",
        "    round(avg(last_evaluation),2) as avg_last_evaluation,\n",
        "    round(avg(number_project),1) as avg_projects,\n",
        "    avg(average_montly_hours) as hours_worked,\n",
        "    avg(time_spend_company) as time_at_company\n",
        "FROM hr_happiness.`employee attrition`\n",
        "where dept in ('support', 'management','hr', 'accounting')\n",
        "group by 1\n",
        ";\n"
      ],
      "metadata": {
        "id": "2jtAjqz9DC2S"
      },
      "execution_count": null,
      "outputs": []
    },
    {
      "cell_type": "code",
      "source": [
        "# -- d. time_spend_company\n",
        "\n",
        "# -- e. Work_accident\n",
        "\n",
        "# -- f. promotion_last_5years\n",
        "Select\n",
        "    Case\n",
        "     when dept in ('support', 'management') then 'top_dept'\n",
        "     when dept in ('hr', 'accounting') then 'lower_dept'\n",
        "\tend as top_bot,\n",
        "    count(`Emp ID`) as number_of_emp,\n",
        "    round(avg(last_evaluation),2) as avg_last_evaluation,\n",
        "    round(avg(number_project),1) as avg_projects,\n",
        "    round(avg(average_montly_hours),2) as hours_worked,\n",
        "    round(avg(time_spend_company),2) as time_at_company,\n",
        "    round(avg(Work_accident),2) as avg_num_accidents,\n",
        "    round(avg(promotion_last_5years),2) as avg_num_proms\n",
        "FROM hr_happiness.`employee attrition`\n",
        "where dept in ('support', 'management','hr', 'accounting')\n",
        "group by 1\n",
        ";\n"
      ],
      "metadata": {
        "id": "BHGWtboXDOmf"
      },
      "execution_count": null,
      "outputs": []
    }
  ]
}